{
 "cells": [
  {
   "cell_type": "code",
   "execution_count": null,
   "id": "e2c97a8b",
   "metadata": {},
   "outputs": [],
   "source": [
    "def sparse_search(data, search_val):\n",
    "  print(\"Data: \" + str(data))\n",
    "  print(\"Search Value: \" + str(search_val))\n",
    "  first = 0\n",
    "  last = len(data) - 1\n",
    "  while first <= last:\n",
    "    mid = (first + last)//2\n",
    "    if not data[mid]:\n",
    "      left = mid - 1\n",
    "      right = mid+1\n",
    "      while True:\n",
    "        if left < first and right > last:\n",
    "          print(\"{} is not in the dataset\".format(search_val))\n",
    "          return\n",
    "        elif right <= last and data[right]:\n",
    "          mid = right\n",
    "          break\n",
    "        elif left >= first and data[left]:\n",
    "          mid = left\n",
    "          break \n",
    "        right += 1\n",
    "        left += 1     \n",
    "    if data[mid] == search_val:\n",
    "      print(\"{} found at position {}\".format(search_val, mid))  \n",
    "      return\n",
    "    elif data[mid] > search_val:\n",
    "      last = mid - 1\n",
    "    elif data[mid] < search_val:\n",
    "      first = mid + 1\n",
    "  print(\"{} is not in the dataset\".format(search_val)) "
   ]
  }
 ],
 "metadata": {
  "kernelspec": {
   "display_name": "Python 3 (ipykernel)",
   "language": "python",
   "name": "python3"
  },
  "language_info": {
   "codemirror_mode": {
    "name": "ipython",
    "version": 3
   },
   "file_extension": ".py",
   "mimetype": "text/x-python",
   "name": "python",
   "nbconvert_exporter": "python",
   "pygments_lexer": "ipython3",
   "version": "3.9.7"
  }
 },
 "nbformat": 4,
 "nbformat_minor": 5
}
